{
 "cells": [
  {
   "cell_type": "code",
   "execution_count": 6,
   "metadata": {
    "id": "IV-TfusQClaZ"
   },
   "outputs": [],
   "source": [
    "from csv import reader\n",
    "import nltk\n",
    "from nltk.tokenize import word_tokenize\n",
    "from nltk import pos_tag\n",
    "from nltk.corpus import stopwords\n",
    "from collections import OrderedDict\n",
    "from nltk.stem import PorterStemmer\n",
    "import math\n",
    "import numpy as np\n",
    "from numpy.linalg import norm\n",
    "import csv"
   ]
  },
  {
   "cell_type": "code",
   "execution_count": 7,
   "metadata": {
    "colab": {
     "base_uri": "https://localhost:8080/"
    },
    "id": "52VqZLR-EmGI",
    "outputId": "a62b13d1-0fc9-401f-d95c-86583972bcde"
   },
   "outputs": [
    {
     "name": "stderr",
     "output_type": "stream",
     "text": [
      "[nltk_data] Downloading package punkt to /home/mohit/nltk_data...\n",
      "[nltk_data]   Package punkt is already up-to-date!\n",
      "[nltk_data] Downloading package stopwords to /home/mohit/nltk_data...\n",
      "[nltk_data]   Package stopwords is already up-to-date!\n",
      "[nltk_data] Downloading package wordnet to /home/mohit/nltk_data...\n",
      "[nltk_data]   Package wordnet is already up-to-date!\n",
      "[nltk_data] Downloading package averaged_perceptron_tagger to\n",
      "[nltk_data]     /home/mohit/nltk_data...\n",
      "[nltk_data]   Package averaged_perceptron_tagger is already up-to-\n",
      "[nltk_data]       date!\n"
     ]
    },
    {
     "data": {
      "text/plain": [
       "True"
      ]
     },
     "execution_count": 7,
     "metadata": {},
     "output_type": "execute_result"
    }
   ],
   "source": [
    "nltk.download('punkt')\n",
    "nltk.download('stopwords')\n",
    "nltk.download('wordnet')\n",
    "nltk.download('averaged_perceptron_tagger')"
   ]
  },
  {
   "cell_type": "code",
   "execution_count": 9,
   "metadata": {},
   "outputs": [],
   "source": [
    "articles, links, titles = [], [], []\n",
    "\n",
    "with open('articles.csv', 'r') as read_obj:\n",
    "    csv_reader = reader(read_obj)\n",
    "    for row in csv_reader:\n",
    "        articles.append(row[5])\n",
    "        links.append(row[3])\n",
    "        titles.append(row[4])\n",
    "\n",
    "# import csv\n",
    "\n",
    "# with open('titles.csv','w') as result_file:\n",
    "#     wr = csv.writer(result_file, dialect='excel')\n",
    "#     wr.writerow(titles)\n",
    "    \n",
    "    \n",
    "# with open('links.csv','w') as result_file:\n",
    "#     wr = csv.writer(result_file, dialect='excel')\n",
    "#     wr.writerow(links)"
   ]
  },
  {
   "cell_type": "code",
   "execution_count": 12,
   "metadata": {},
   "outputs": [
    {
     "data": {
      "text/plain": [
       "1046.246290801187"
      ]
     },
     "execution_count": 12,
     "metadata": {},
     "output_type": "execute_result"
    }
   ],
   "source": [
    "t, av = [], 0\n",
    "with open('processed_articles.csv', 'r') as read_obj:\n",
    "    csv_reader = csv.reader(read_obj)\n",
    "    for row in csv_reader:\n",
    "        t.append(row)\n",
    "        av+= len(row)\n",
    "        \n",
    "av /= len(t)\n",
    "av"
   ]
  },
  {
   "cell_type": "code",
   "execution_count": 16,
   "metadata": {},
   "outputs": [],
   "source": [
    "tokens = [word_tokenize(article) for article in articles]\n",
    "tokens = [[word for word in article if word.isalpha()] for article in tokens] \n",
    "ps = PorterStemmer()\n",
    "\n",
    "stem_tokens = [[ps.stem(word) for word in article] for article in tokens]\n",
    "tokens = [[word for word in article if not word in stopwords.words(\"english\")] for article in stem_tokens]\n",
    "\n",
    "\n",
    "# with open('processed_articles.csv','w') as result_file:\n",
    "#     wr = csv.writer(result_file, dialect='excel')\n",
    "#     wr.writerow(tokens)\n",
    "    \n",
    "with open(\"processed_articles.csv\", \"w\", newline=\"\") as f:\n",
    "    writer = csv.writer(f)\n",
    "    writer.writerows(tokens)"
   ]
  },
  {
   "cell_type": "markdown",
   "metadata": {
    "id": "KHLqfP9tvt59"
   },
   "source": [
    "## Preprocessing"
   ]
  },
  {
   "cell_type": "code",
   "execution_count": null,
   "metadata": {
    "colab": {
     "base_uri": "https://localhost:8080/"
    },
    "id": "ob4RnAtxrWH_",
    "outputId": "c63a69ac-cfda-4ce4-b93a-05ea1c3daf60"
   },
   "outputs": [
    {
     "name": "stdout",
     "output_type": "stream",
     "text": [
      "Size of the index terms - 6089\n"
     ]
    },
    {
     "data": {
      "text/plain": [
       "['machin', 'learn', 'involv', 'neural', 'network']"
      ]
     },
     "execution_count": 13,
     "metadata": {},
     "output_type": "execute_result"
    }
   ],
   "source": [
    "tokens = [word_tokenize(article) for article in articles]\n",
    "tokens = [[word for word in article if word.isalpha()] for article in tokens] \n",
    "ps = PorterStemmer()\n",
    "\n",
    "stem_tokens = [[ps.stem(word) for word in article] for article in tokens]\n",
    "tokens = [[word for word in article if not word in stopwords.words(\"english\")] for article in stem_tokens]\n",
    "\n",
    "print(f'Size of the index terms - {len(set([token for article in tokens for token in article]))}')\n",
    "\n",
    "\n",
    "avg_doc_len = 0\n",
    "for doc in tokens:\n",
    "    avg_doc_len += len(doc)\n",
    "\n",
    "avg_doc_len /= 100\n",
    "\n",
    "sample_query = 'Machine Learning can involve neural networks'\n",
    "\n",
    "def preprocess_query(query):\n",
    "    query_terms = query.split(\" \")  #Split the query -> tokenisation\n",
    "\n",
    "    #Query normalisation\n",
    "    query_terms = [term for term in query_terms if term.isalpha()]\n",
    "    query_terms = [ps.stem(term) for term in query_terms]\n",
    "    query_terms = [word for word in query_terms if not word in stopwords.words(\"english\")]\n",
    "\n",
    "    return query_terms\n",
    "\n",
    "preprocess_query(sample_query)"
   ]
  },
  {
   "cell_type": "code",
   "execution_count": null,
   "metadata": {
    "id": "9AELnRCXelok"
   },
   "outputs": [],
   "source": [
    "def calculate_combination_factor(K1=1, b=0.3):\n",
    "    combination_factor = {}\n",
    "    for word in index_terms:\n",
    "        combination_factor[word] = [0] * N\n",
    "        for id, article in enumerate(tokens):\n",
    "            freq = article.count(word)\n",
    "            num = (K1 + 1) * freq\n",
    "            den = (K1 * ((1-b) + (b * (len(article) / avg_doc_len)))) + freq\n",
    "            combination_factor[word][id] = num / den\n",
    "\n",
    "    return combination_factor\n",
    "\n",
    "B_i_j = calculate_combination_factor(K1=1, b=0.3)"
   ]
  },
  {
   "cell_type": "code",
   "execution_count": null,
   "metadata": {
    "colab": {
     "base_uri": "https://localhost:8080/"
    },
    "id": "NPD4VPRP_lDm",
    "outputId": "997793ae-2b84-4b8e-e989-e678faadb24c"
   },
   "outputs": [
    {
     "name": "stdout",
     "output_type": "stream",
     "text": [
      "[61, 46, 68, 57, 15, 79, 3, 77, 60, 18, 98, 58, 37, 13, 36, 14, 56, 97, 17, 66, 12, 30, 99, 67, 19, 83, 53, 64, 6, 90, 16, 65, 50, 93, 9, 51, 25, 2, 49, 38, 88, 4, 96, 84, 28, 48, 62, 74, 85, 78, 47, 73, 42, 80, 43, 11, 92, 8, 72, 22, 29, 44, 24, 82, 41, 91, 7, 55, 1, 70, 81, 94, 59, 95, 10, 5, 89, 20, 75, 54, 87, 45, 27, 71, 86, 0, 69, 32, 76, 52, 63, 23, 39, 31, 35, 21, 26, 33, 34, 40]\n"
     ]
    }
   ],
   "source": [
    "def calculate_BM25(query):\n",
    "    query_terms = preprocess_query(query)\n",
    "\n",
    "    scores = []\n",
    "    for doc_id, document in enumerate(tokens):\n",
    "        k = set(query_terms) & set(document)\n",
    "\n",
    "        this_doc__score = 0\n",
    "        for k_i in k:\n",
    "            n_i = document_frequency[k_i]\n",
    "            log_value = math.log(((N - n_i + 0.5) / (n_i + 0.5)), 2)\n",
    "            this_doc__score += B_i_j[k_i][doc_id] * log_value\n",
    "        scores.append(this_doc__score)\n",
    "\n",
    "    ranked_list = np.argsort(scores).tolist()\n",
    "    # ranked_list.reverse()\n",
    "    return ranked_list\n",
    "\n",
    "\n",
    "ranked_documents_BM25 = calculate_BM25(sample_query)\n",
    "print(ranked_documents_BM25)"
   ]
  },
  {
   "cell_type": "code",
   "execution_count": 10,
   "metadata": {},
   "outputs": [
    {
     "data": {
      "text/plain": [
       "337"
      ]
     },
     "execution_count": 10,
     "metadata": {},
     "output_type": "execute_result"
    }
   ],
   "source": [
    "summarised_articles = []\n",
    "with open('summarised_articles.csv', 'r') as read_obj:\n",
    "    csv_reader = csv.reader(read_obj)\n",
    "    for row in csv_reader:\n",
    "        summarised_articles.append(row)\n",
    "\n",
    "len(summarised_articles)"
   ]
  },
  {
   "cell_type": "code",
   "execution_count": 14,
   "metadata": {},
   "outputs": [
    {
     "data": {
      "text/plain": [
       "(230, 230, 230, 230)"
      ]
     },
     "execution_count": 14,
     "metadata": {},
     "output_type": "execute_result"
    }
   ],
   "source": [
    "unique_docs = set()\n",
    "u_articles, u_titles, u_links, u_tokens, u_summarised = [], [], [], [], []\n",
    "for idx, title in enumerate(titles):\n",
    "    if title not in unique_docs:\n",
    "        unique_docs.add(title)\n",
    "        u_articles.append(articles[idx])\n",
    "        u_titles.append(titles[idx])\n",
    "        u_links.append(links[idx])\n",
    "        u_tokens.append(t[idx])\n",
    "        u_summarised.append(summarised_articles[idx])\n",
    "        \n",
    "len(unique_docs), len(u_articles), len(u_titles), len(u_tokens)"
   ]
  },
  {
   "cell_type": "code",
   "execution_count": 16,
   "metadata": {},
   "outputs": [],
   "source": [
    "import rank_bm25 \n",
    "\n",
    "bm25 = rank_bm25.BM25Okapi(u_tokens)\n"
   ]
  },
  {
   "cell_type": "code",
   "execution_count": 44,
   "metadata": {},
   "outputs": [],
   "source": [
    "sample_query = 'chatbots are taking over'\n",
    "ps = PorterStemmer()\n",
    "\n",
    "def preprocess_query(query):\n",
    "    query_terms = query.split(\" \")  #Split the query -> tokenisation\n",
    "\n",
    "    #Query normalisation\n",
    "    query_terms = [term for term in query_terms if term.isalpha()]\n",
    "    query_terms = [ps.stem(term) for term in query_terms]\n",
    "    query_terms = [word for word in query_terms if not word in stopwords.words(\"english\")]\n",
    "\n",
    "    return query_terms\n",
    "\n",
    "q = preprocess_query(sample_query)"
   ]
  },
  {
   "cell_type": "code",
   "execution_count": 45,
   "metadata": {},
   "outputs": [],
   "source": [
    "docs = bm25.get_top_n(q, u_articles, n=15)"
   ]
  },
  {
   "cell_type": "code",
   "execution_count": 46,
   "metadata": {},
   "outputs": [
    {
     "name": "stdout",
     "output_type": "stream",
     "text": [
      "Oh, how the headlines blared:\n",
      "Chatbots were The Next Big Thing.\n",
      "Our hopes were sky high. Bright-eyed and bushy-tailed, the industry was ripe for a new era of innovation: it was time to start socializing with machines.\n",
      "And why wouldn’t they be? All the road signs pointed towards insane success.\n",
      "At the Mobile World Congress 2017, chatbots were the main headliners. The conference organizers cited an ‘overwhelming acceptance at the event of the inevitable shift of focus for brands and corporates to chatbots’.\n",
      "In fact, the only significant question around chatbots was who would monopolize the field, not whether chatbots would take off in the first place:\n",
      "One year on, we have an answer to that question.\n",
      "No.\n",
      "Because there isn’t even an ecosystem for a platform to dominate.\n",
      "Chatbots weren’t the first technological development to be talked up in grandiose terms and then slump spectacularly.\n",
      "The age-old hype cycle unfolded in familiar fashion...\n",
      "Expectations built, built, and then..... It all kind of fizzled out.\n",
      "The predicted paradim shift didn’t materialize.\n",
      "And apps are, tellingly, still alive and well.\n",
      "We look back at our breathless optimism and turn to each other, slightly baffled:\n",
      "“is that it? THAT was the chatbot revolution we were promised?”\n",
      "Digit’s Ethan Bloch sums up the general consensus:\n",
      "According to Dave Feldman, Vice President of Product Design at Heap, chatbots didn’t just take on one difficult problem and fail: they took on several and failed all of them.\n",
      "Bots can interface with users in different ways. The big divide is text vs. speech. In the beginning (of computer interfaces) was the (written) word.\n",
      "Users had to type commands manually into a machine to get anything done.\n",
      "Then, graphical user interfaces (GUIs) came along and saved the day. We became entranced by windows, mouse clicks, icons. And hey, we eventually got color, too!\n",
      "Meanwhile, a bunch of research scientists were busily developing natural language (NL) interfaces to databases, instead of having to learn an arcane database query language.\n",
      "Another bunch of scientists were developing speech-processing software so that you could just speak to your computer, rather than having to type. This turned out to be a whole lot more difficult than anyone originally realised:\n",
      "The next item on the agenda was holding a two-way dialog with a machine. Here’s an example dialog (dating back to the 1990s) with VCR setup system:\n",
      "Pretty cool, right? The system takes turns in collaborative way, and does a smart job of figuring out what the user wants.\n",
      "It was carefully crafted to deal with conversations involving VCRs, and could only operate within strict limitations.\n",
      "Modern day bots, whether they use typed or spoken input, have to face all these challenges, but also work in an efficient and scalable way on a variety of platforms.\n",
      "Basically, we’re still trying to achieve the same innovations we were 30 years ago.\n",
      "Here’s where I think we’re going wrong:\n",
      "An oversized assumption has been that apps are ‘over’, and would be replaced by bots.\n",
      "By pitting two such disparate concepts against one another (instead of seeing them as separate entities designed to serve different purposes) we discouraged bot development.\n",
      "You might remember a similar war cry when apps first came onto the scene ten years ago: but do you remember when apps replaced the internet?\n",
      "It’s said that a new product or service needs to be two of the following: better, cheaper, or faster. Are chatbots cheaper or faster than apps? No — not yet, at least.\n",
      "Whether they’re ‘better’ is subjective, but I think it’s fair to say that today’s best bot isn’t comparable to today’s best app.\n",
      "Plus, nobody thinks that using Lyft is too complicated, or that it’s too hard to order food or buy a dress on an app. What is too complicated is trying to complete these tasks with a bot — and having the bot fail.\n",
      "A great bot can be about as useful as an average app. When it comes to rich, sophisticated, multi-layered apps, there’s no competition.\n",
      "That’s because machines let us access vast and complex information systems, and the early graphical information systems were a revolutionary leap forward in helping us locate those systems.\n",
      "Modern-day apps benefit from decades of research and experimentation. Why would we throw this away?\n",
      "But, if we swap the word ‘replace’ with ‘extend’, things get much more interesting.\n",
      "Today’s most successful bot experiences take a hybrid approach, incorporating chat into a broader strategy that encompasses more traditional elements.\n",
      "The next wave will be multimodal apps, where you can say what you want (like with Siri) and get back information as a map, text, or even a spoken response.\n",
      "Another problematic aspect of the sweeping nature of hype is that it tends to bypass essential questions like these.\n",
      "For plenty of companies, bots just aren’t the right solution. The past two years are littered with cases of bots being blindly applied to problems where they aren’t needed.\n",
      "Building a bot for the sake of it, letting it loose and hoping for the best will never end well:\n",
      "The vast majority of bots are built using decision-tree logic, where the bot’s canned response relies on spotting specific keywords in the user input.\n",
      "The advantage of this approach is that it’s pretty easy to list all the cases that they are designed to cover. And that’s precisely their disadvantage, too.\n",
      "That’s because these bots are purely a reflection of the capability, fastidiousness and patience of the person who created them; and how many user needs and inputs they were able to anticipate.\n",
      "Problems arise when life refuses to fit into those boxes.\n",
      "According to recent reports, 70% of the 100,000+ bots on Facebook Messenger are failing to fulfil simple user requests. This is partly a result of developers failing to narrow their bot down to one strong area of focus.\n",
      "When we were building GrowthBot, we decided to make it specific to sales and marketers: not an ‘all-rounder’, despite the temptation to get overexcited about potential capabilties.\n",
      "Remember: a bot that does ONE thing well is infinitely more helpful than a bot that does multiple things poorly.\n",
      "A competent developer can build a basic bot in minutes — but one that can hold a conversation? That’s another story. Despite the constant hype around AI, we’re still a long way from achieving anything remotely human-like.\n",
      "In an ideal world, the technology known as NLP (natural language processing) should allow a chatbot to understand the messages it receives. But NLP is only just emerging from research labs and is very much in its infancy.\n",
      "Some platforms provide a bit of NLP, but even the best is at toddler-level capacity (for example, think about Siri understanding your words, but not their meaning.)\n",
      "As Matt Asay outlines, this results in another issue: failure to capture the attention and creativity of developers.\n",
      "And conversations are complex. They’re not linear. Topics spin around each other, take random turns, restart or abruptly finish.\n",
      "Today’s rule-based dialogue systems are too brittle to deal with this kind of unpredictability, and statistical approaches using machine learning are just as limited. The level of AI required for human-like conversation just isn’t available yet.\n",
      "And in the meantime, there are few high-quality examples of trailblazing bots to lead the way. As Dave Feldman remarked:\n",
      "Once upon a time, the only way to interact with computers was by typing arcane commands to the terminal. Visual interfaces using windows, icons or a mouse were a revolution in how we manipulate information\n",
      "There’s a reasons computing moved from text-based to graphical user interfaces (GUIs). On the input side, it’s easier and faster to click than it is to type.\n",
      "Tapping or selecting is obviously preferable to typing out a whole sentence, even with predictive (often error-prone ) text. On the output side, the old adage that a picture is worth a thousand words is usually true.\n",
      "We love optical displays of information because we are highly visual creatures. It’s no accident that kids love touch screens. The pioneers who dreamt up graphical interface were inspired by cognitive psychology, the study of how the brain deals with communication.\n",
      "Conversational UIs are meant to replicate the way humans prefer to communicate, but they end up requiring extra cognitive effort. Essentially, we’re swapping something simple for a more-complex alternative.\n",
      "Sure, there are some concepts that we can only express using language (“show me all the ways of getting to a museum that give me 2000 steps but don’t take longer than 35 minutes”), but most tasks can be carried out more efficiently and intuitively with GUIs than with a conversational UI.\n",
      "Aiming for a human dimension in business interactions makes sense.\n",
      "If there’s one thing that’s broken about sales and marketing, it’s the lack of humanity: brands hide behind ticket numbers, feedback forms, do-not-reply-emails, automated responses and gated ‘contact us’ forms.\n",
      "Facebook’s goal is that their bots should pass the so-called Turing Test, meaning you can’t tell whether you are talking to a bot or a human. But a bot isn’t the same as a human. It never will be.\n",
      "A conversation encompasses so much more than just text.\n",
      "Humans can read between the lines, leverage contextual information and understand double layers like sarcasm. Bots quickly forget what they’re talking about, meaning it’s a bit like conversing with someone who has little or no short-term memory.\n",
      "As HubSpot team pinpointed:\n",
      "People aren’t easily fooled, and pretending a bot is a human is guaranteed to diminish returns (not to mention the fact that you’re lying to your users).\n",
      "And even those rare bots that are powered by state-of-the-art NLP, and excel at processing and producing content, will fall short in comparison.\n",
      "And here’s the other thing. Conversational UIs are built to replicate the way humans prefer to communicate — with other humans.\n",
      "But is that how humans prefer to interact with machines?\n",
      "Not necessarily.\n",
      "At the end of the day, no amount of witty quips or human-like mannerisms will save a bot from conversational failure.\n",
      "In a way, those early-adopters weren’t entirely wrong.\n",
      "People are yelling at Google Home to play their favorite song, ordering pizza from the Domino’s bot and getting makeup tips from Sephora. But in terms of consumer response and developer involvement, chatbots haven’t lived up to the hype generated circa 2015/16.\n",
      "Not even close.\n",
      "Computers are good at being computers. Searching for data, crunching numbers, analyzing opinions and condensing that information.\n",
      "Computers aren’t good at understanding human emotion. The state of NLP means they still don’t ‘get’ what we’re asking them, never mind how we feel.\n",
      "That’s why it’s still impossible to imagine effective customer support, sales or marketing without the essential human touch: empathy and emotional intelligence.\n",
      "For now, bots can continue to help us with automated, repetitive, low-level tasks and queries; as cogs in a larger, more complex system. And we did them, and ourselves, a disservice by expecting so much, so soon.\n",
      "But that’s not the whole story.\n",
      "Yes, our industry massively overestimated the initial impact chatbots would have. Emphasis on initial.\n",
      "As Bill Gates once said:\n",
      "The hype is over. And that’s a good thing. Now, we can start examining the middle-grounded grey area, instead of the hyper-inflated, frantic black and white zone.\n",
      "I believe we’re at the very beginning of explosive growth. This sense of anti-climax is completely normal for transformational technology.\n",
      "Messaging will continue to gain traction. Chatbots aren’t going away. NLP and AI are becoming more sophisticated every day.\n",
      "Developers, apps and platforms will continue to experiment with, and heavily invest in, conversational marketing.\n",
      "And I can’t wait to see what happens next.\n",
      "From a quick cheer to a standing ovation, clap to show how much you enjoyed this story.\n",
      "Head of Growth for GrowthBot, Messaging & Conversational Strategy @HubSpot\n",
      "Medium's largest publication for makers. Subscribe to receive our top stories here → https://goo.gl/zHcLJi\n",
      "\n"
     ]
    }
   ],
   "source": [
    "print(docs[0])"
   ]
  },
  {
   "cell_type": "code",
   "execution_count": 50,
   "metadata": {},
   "outputs": [
    {
     "data": {
      "text/plain": [
       "\"Oh, how the headlines blared:\\nChatbots were The Next Big Thing.\\nOur hopes were sky high. Bright-eyed and bushy-tailed, the industry was ripe for a new era of innovation: it was time to start socializing with machines.\\nAnd why wouldn’t they be? All the road signs pointed towards insane success.\\nAt the Mobile World Congress 2017, chatbots were the main headliners. The conference organizers cited an ‘overwhelming acceptance at the event of the inevitable shift of focus for brands and corporates to chatbots’.\\nIn fact, the only significant question around chatbots was who would monopolize the field, not whether chatbots would take off in the first place:\\nOne year on, we have an answer to that question.\\nNo.\\nBecause there isn’t even an ecosystem for a platform to dominate.\\nChatbots weren’t the first technological development to be talked up in grandiose terms and then slump spectacularly.\\nThe age-old hype cycle unfolded in familiar fashion...\\nExpectations built, built, and then..... It all kind of fizzled out.\\nThe predicted paradim shift didn’t materialize.\\nAnd apps are, tellingly, still alive and well.\\nWe look back at our breathless optimism and turn to each other, slightly baffled:\\n“is that it? THAT was the chatbot revolution we were promised?”\\nDigit’s Ethan Bloch sums up the general consensus:\\nAccording to Dave Feldman, Vice President of Product Design at Heap, chatbots didn’t just take on one difficult problem and fail: they took on several and failed all of them.\\nBots can interface with users in different ways. The big divide is text vs. speech. In the beginning (of computer interfaces) was the (written) word.\\nUsers had to type commands manually into a machine to get anything done.\\nThen, graphical user interfaces (GUIs) came along and saved the day. We became entranced by windows, mouse clicks, icons. And hey, we eventually got color, too!\\nMeanwhile, a bunch of research scientists were busily developing natural language (NL) interfaces to databases, instead of having to learn an arcane database query language.\\nAnother bunch of scientists were developing speech-processing software so that you could just speak to your computer, rather than having to type. This turned out to be a whole lot more difficult than anyone originally realised:\\nThe next item on the agenda was holding a two-way dialog with a machine. Here’s an example dialog (dating back to the 1990s) with VCR setup system:\\nPretty cool, right? The system takes turns in collaborative way, and does a smart job of figuring out what the user wants.\\nIt was carefully crafted to deal with conversations involving VCRs, and could only operate within strict limitations.\\nModern day bots, whether they use typed or spoken input, have to face all these challenges, but also work in an efficient and scalable way on a variety of platforms.\\nBasically, we’re still trying to achieve the same innovations we were 30 years ago.\\nHere’s where I think we’re going wrong:\\nAn oversized assumption has been that apps are ‘over’, and would be replaced by bots.\\nBy pitting two such disparate concepts against one another (instead of seeing them as separate entities designed to serve different purposes) we discouraged bot development.\\nYou might remember a similar war cry when apps first came onto the scene ten years ago: but do you remember when apps replaced the internet?\\nIt’s said that a new product or service needs to be two of the following: better, cheaper, or faster. Are chatbots cheaper or faster than apps? No — not yet, at least.\\nWhether they’re ‘better’ is subjective, but I think it’s fair to say that today’s best bot isn’t comparable to today’s best app.\\nPlus, nobody thinks that using Lyft is too complicated, or that it’s too hard to order food or buy a dress on an app. What is too complicated is trying to complete these tasks with a bot — and having the bot fail.\\nA great bot can be about as useful as an average app. When it comes to rich, sophisticated, multi-layered apps, there’s no competition.\\nThat’s because machines let us access vast and complex information systems, and the early graphical information systems were a revolutionary leap forward in helping us locate those systems.\\nModern-day apps benefit from decades of research and experimentation. Why would we throw this away?\\nBut, if we swap the word ‘replace’ with ‘extend’, things get much more interesting.\\nToday’s most successful bot experiences take a hybrid approach, incorporating chat into a broader strategy that encompasses more traditional elements.\\nThe next wave will be multimodal apps, where you can say what you want (like with Siri) and get back information as a map, text, or even a spoken response.\\nAnother problematic aspect of the sweeping nature of hype is that it tends to bypass essential questions like these.\\nFor plenty of companies, bots just aren’t the right solution. The past two years are littered with cases of bots being blindly applied to problems where they aren’t needed.\\nBuilding a bot for the sake of it, letting it loose and hoping for the best will never end well:\\nThe vast majority of bots are built using decision-tree logic, where the bot’s canned response relies on spotting specific keywords in the user input.\\nThe advantage of this approach is that it’s pretty easy to list all the cases that they are designed to cover. And that’s precisely their disadvantage, too.\\nThat’s because these bots are purely a reflection of the capability, fastidiousness and patience of the person who created them; and how many user needs and inputs they were able to anticipate.\\nProblems arise when life refuses to fit into those boxes.\\nAccording to recent reports, 70% of the 100,000+ bots on Facebook Messenger are failing to fulfil simple user requests. This is partly a result of developers failing to narrow their bot down to one strong area of focus.\\nWhen we were building GrowthBot, we decided to make it specific to sales and marketers: not an ‘all-rounder’, despite the temptation to get overexcited about potential capabilties.\\nRemember: a bot that does ONE thing well is infinitely more helpful than a bot that does multiple things poorly.\\nA competent developer can build a basic bot in minutes — but one that can hold a conversation? That’s another story. Despite the constant hype around AI, we’re still a long way from achieving anything remotely human-like.\\nIn an ideal world, the technology known as NLP (natural language processing) should allow a chatbot to understand the messages it receives. But NLP is only just emerging from research labs and is very much in its infancy.\\nSome platforms provide a bit of NLP, but even the best is at toddler-level capacity (for example, think about Siri understanding your words, but not their meaning.)\\nAs Matt Asay outlines, this results in another issue: failure to capture the attention and creativity of developers.\\nAnd conversations are complex. They’re not linear. Topics spin around each other, take random turns, restart or abruptly finish.\\nToday’s rule-based dialogue systems are too brittle to deal with this kind of unpredictability, and statistical approaches using machine learning are just as limited. The level of AI required for human-like conversation just isn’t available yet.\\nAnd in the meantime, there are few high-quality examples of trailblazing bots to lead the way. As Dave Feldman remarked:\\nOnce upon a time, the only way to interact with computers was by typing arcane commands to the terminal. Visual interfaces using windows, icons or a mouse were a revolution in how we manipulate information\\nThere’s a reasons computing moved from text-based to graphical user interfaces (GUIs). On the input side, it’s easier and faster to click than it is to type.\\nTapping or selecting is obviously preferable to typing out a whole sentence, even with predictive (often error-prone ) text. On the output side, the old adage that a picture is worth a thousand words is usually true.\\nWe love optical displays of information because we are highly visual creatures. It’s no accident that kids love touch screens. The pioneers who dreamt up graphical interface were inspired by cognitive psychology, the study of how the brain deals with communication.\\nConversational UIs are meant to replicate the way humans prefer to communicate, but they end up requiring extra cognitive effort. Essentially, we’re swapping something simple for a more-complex alternative.\\nSure, there are some concepts that we can only express using language (“show me all the ways of getting to a museum that give me 2000 steps but don’t take longer than 35 minutes”), but most tasks can be carried out more efficiently and intuitively with GUIs than with a conversational UI.\\nAiming for a human dimension in business interactions makes sense.\\nIf there’s one thing that’s broken about sales and marketing, it’s the lack of humanity: brands hide behind ticket numbers, feedback forms, do-not-reply-emails, automated responses and gated ‘contact us’ forms.\\nFacebook’s goal is that their bots should pass the so-called Turing Test, meaning you can’t tell whether you are talking to a bot or a human. But a bot isn’t the same as a human. It never will be.\\nA conversation encompasses so much more than just text.\\nHumans can read between the lines, leverage contextual information and understand double layers like sarcasm. Bots quickly forget what they’re talking about, meaning it’s a bit like conversing with someone who has little or no short-term memory.\\nAs HubSpot team pinpointed:\\nPeople aren’t easily fooled, and pretending a bot is a human is guaranteed to diminish returns (not to mention the fact that you’re lying to your users).\\nAnd even those rare bots that are powered by state-of-the-art NLP, and excel at processing and producing content, will fall short in comparison.\\nAnd here’s the other thing. Conversational UIs are built to replicate the way humans prefer to communicate — with other humans.\\nBut is that how humans prefer to interact with machines?\\nNot necessarily.\\nAt the end of the day, no amount of witty quips or human-like mannerisms will save a bot from conversational failure.\\nIn a way, those early-adopters weren’t entirely wrong.\\nPeople are yelling at Google Home to play their favorite song, ordering pizza from the Domino’s bot and getting makeup tips from Sephora. But in terms of consumer response and developer involvement, chatbots haven’t lived up to the hype generated circa 2015/16.\\nNot even close.\\nComputers are good at being computers. Searching for data, crunching numbers, analyzing opinions and condensing that information.\\nComputers aren’t good at understanding human emotion. The state of NLP means they still don’t ‘get’ what we’re asking them, never mind how we feel.\\nThat’s why it’s still impossible to imagine effective customer support, sales or marketing without the essential human touch: empathy and emotional intelligence.\\nFor now, bots can continue to help us with automated, repetitive, low-level tasks and queries; as cogs in a larger, more complex system. And we did them, and ourselves, a disservice by expecting so much, so soon.\\nBut that’s not the whole story.\\nYes, our industry massively overestimated the initial impact chatbots would have. Emphasis on initial.\\nAs Bill Gates once said:\\nThe hype is over. And that’s a good thing. Now, we can start examining the middle-grounded grey area, instead of the hyper-inflated, frantic black and white zone.\\nI believe we’re at the very beginning of explosive growth. This sense of anti-climax is completely normal for transformational technology.\\nMessaging will continue to gain traction. Chatbots aren’t going away. NLP and AI are becoming more sophisticated every day.\\nDevelopers, apps and platforms will continue to experiment with, and heavily invest in, conversational marketing.\\nAnd I can’t wait to see what happens next.\\nFrom a quick cheer to a standing ovation, clap to show how much you enjoyed this story.\\nHead of Growth for GrowthBot, Messaging & Conversational Strategy @HubSpot\\nMedium's largest publication for makers. Subscribe to receive our top stories here → https://goo.gl/zHcLJi\\n\""
      ]
     },
     "execution_count": 50,
     "metadata": {},
     "output_type": "execute_result"
    }
   ],
   "source": [
    "a = np.array(bm25.get_scores(q))\n",
    "a = a.argsort().tolist()\n",
    "a.reverse()\n",
    "u_articles[a[0]]"
   ]
  },
  {
   "cell_type": "code",
   "execution_count": null,
   "metadata": {},
   "outputs": [],
   "source": []
  }
 ],
 "metadata": {
  "colab": {
   "collapsed_sections": [],
   "name": "IR Lab 3.ipynb",
   "provenance": []
  },
  "kernelspec": {
   "display_name": "Python 3",
   "language": "python",
   "name": "python3"
  },
  "language_info": {
   "codemirror_mode": {
    "name": "ipython",
    "version": 3
   },
   "file_extension": ".py",
   "mimetype": "text/x-python",
   "name": "python",
   "nbconvert_exporter": "python",
   "pygments_lexer": "ipython3",
   "version": "3.7.3"
  }
 },
 "nbformat": 4,
 "nbformat_minor": 1
}
